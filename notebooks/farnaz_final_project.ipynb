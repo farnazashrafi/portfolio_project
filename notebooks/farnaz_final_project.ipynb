{
 "cells": [
  {
   "cell_type": "code",
   "execution_count": 11,
   "id": "64d22acc",
   "metadata": {},
   "outputs": [],
   "source": [
    "import pandas as pd\n",
    "import seaborn as sns\n",
    "import numpy as np\n",
    "import matplotlib.pyplot as plt\n",
    "from sklearn.model_selection import train_test_split\n",
    "from sklearn.decomposition import PCA\n",
    "from sklearn.compose import ColumnTransformer\n",
    "from sklearn.preprocessing import OneHotEncoder\n",
    "from sklearn.model_selection import RandomizedSearchCV\n",
    "#from imblearn.pipeline import Pipeline\n",
    "from sklearn.pipeline import Pipeline\n",
    "from sklearn.preprocessing import StandardScaler, MinMaxScaler\n",
    "from sklearn.model_selection import GridSearchCV\n",
    "from sklearn.ensemble import RandomForestClassifier\n",
    "from sklearn.linear_model import LogisticRegression\n",
    "from sklearn.neighbors import KNeighborsClassifier\n",
    "from sklearn.tree import DecisionTreeClassifier\n",
    "from sklearn.svm import LinearSVC\n",
    "from sklearn.svm import SVC\n",
    "from sklearn.model_selection import cross_val_score\n",
    "from sklearn.metrics import f1_score, recall_score, precision_score, accuracy_score, confusion_matrix\n",
    "from sklearn.metrics import roc_auc_score\n",
    "import pickle\n"
   ]
  },
  {
   "cell_type": "code",
   "execution_count": 137,
   "id": "cdb8f902",
   "metadata": {},
   "outputs": [
    {
     "data": {
      "text/html": [
       "<div>\n",
       "<style scoped>\n",
       "    .dataframe tbody tr th:only-of-type {\n",
       "        vertical-align: middle;\n",
       "    }\n",
       "\n",
       "    .dataframe tbody tr th {\n",
       "        vertical-align: top;\n",
       "    }\n",
       "\n",
       "    .dataframe thead th {\n",
       "        text-align: right;\n",
       "    }\n",
       "</style>\n",
       "<table border=\"1\" class=\"dataframe\">\n",
       "  <thead>\n",
       "    <tr style=\"text-align: right;\">\n",
       "      <th></th>\n",
       "      <th>id</th>\n",
       "      <th>Product ID</th>\n",
       "      <th>Type</th>\n",
       "      <th>Air temperature [K]</th>\n",
       "      <th>Process temperature [K]</th>\n",
       "      <th>Rotational speed [rpm]</th>\n",
       "      <th>Torque [Nm]</th>\n",
       "      <th>Tool wear [min]</th>\n",
       "      <th>Machine failure</th>\n",
       "      <th>TWF</th>\n",
       "      <th>HDF</th>\n",
       "      <th>PWF</th>\n",
       "      <th>OSF</th>\n",
       "      <th>RNF</th>\n",
       "    </tr>\n",
       "  </thead>\n",
       "  <tbody>\n",
       "    <tr>\n",
       "      <th>0</th>\n",
       "      <td>0</td>\n",
       "      <td>L50096</td>\n",
       "      <td>L</td>\n",
       "      <td>300.6</td>\n",
       "      <td>309.6</td>\n",
       "      <td>1596</td>\n",
       "      <td>36.1</td>\n",
       "      <td>140</td>\n",
       "      <td>0</td>\n",
       "      <td>0</td>\n",
       "      <td>0</td>\n",
       "      <td>0</td>\n",
       "      <td>0</td>\n",
       "      <td>0</td>\n",
       "    </tr>\n",
       "    <tr>\n",
       "      <th>1</th>\n",
       "      <td>1</td>\n",
       "      <td>M20343</td>\n",
       "      <td>M</td>\n",
       "      <td>302.6</td>\n",
       "      <td>312.1</td>\n",
       "      <td>1759</td>\n",
       "      <td>29.1</td>\n",
       "      <td>200</td>\n",
       "      <td>0</td>\n",
       "      <td>0</td>\n",
       "      <td>0</td>\n",
       "      <td>0</td>\n",
       "      <td>0</td>\n",
       "      <td>0</td>\n",
       "    </tr>\n",
       "    <tr>\n",
       "      <th>2</th>\n",
       "      <td>2</td>\n",
       "      <td>L49454</td>\n",
       "      <td>L</td>\n",
       "      <td>299.3</td>\n",
       "      <td>308.5</td>\n",
       "      <td>1805</td>\n",
       "      <td>26.5</td>\n",
       "      <td>25</td>\n",
       "      <td>0</td>\n",
       "      <td>0</td>\n",
       "      <td>0</td>\n",
       "      <td>0</td>\n",
       "      <td>0</td>\n",
       "      <td>0</td>\n",
       "    </tr>\n",
       "    <tr>\n",
       "      <th>3</th>\n",
       "      <td>3</td>\n",
       "      <td>L53355</td>\n",
       "      <td>L</td>\n",
       "      <td>301.0</td>\n",
       "      <td>310.9</td>\n",
       "      <td>1524</td>\n",
       "      <td>44.3</td>\n",
       "      <td>197</td>\n",
       "      <td>0</td>\n",
       "      <td>0</td>\n",
       "      <td>0</td>\n",
       "      <td>0</td>\n",
       "      <td>0</td>\n",
       "      <td>0</td>\n",
       "    </tr>\n",
       "    <tr>\n",
       "      <th>4</th>\n",
       "      <td>4</td>\n",
       "      <td>M24050</td>\n",
       "      <td>M</td>\n",
       "      <td>298.0</td>\n",
       "      <td>309.0</td>\n",
       "      <td>1641</td>\n",
       "      <td>35.4</td>\n",
       "      <td>34</td>\n",
       "      <td>0</td>\n",
       "      <td>0</td>\n",
       "      <td>0</td>\n",
       "      <td>0</td>\n",
       "      <td>0</td>\n",
       "      <td>0</td>\n",
       "    </tr>\n",
       "  </tbody>\n",
       "</table>\n",
       "</div>"
      ],
      "text/plain": [
       "   id Product ID Type  Air temperature [K]  Process temperature [K]  \\\n",
       "0   0     L50096    L                300.6                    309.6   \n",
       "1   1     M20343    M                302.6                    312.1   \n",
       "2   2     L49454    L                299.3                    308.5   \n",
       "3   3     L53355    L                301.0                    310.9   \n",
       "4   4     M24050    M                298.0                    309.0   \n",
       "\n",
       "   Rotational speed [rpm]  Torque [Nm]  Tool wear [min]  Machine failure  TWF  \\\n",
       "0                    1596         36.1              140                0    0   \n",
       "1                    1759         29.1              200                0    0   \n",
       "2                    1805         26.5               25                0    0   \n",
       "3                    1524         44.3              197                0    0   \n",
       "4                    1641         35.4               34                0    0   \n",
       "\n",
       "   HDF  PWF  OSF  RNF  \n",
       "0    0    0    0    0  \n",
       "1    0    0    0    0  \n",
       "2    0    0    0    0  \n",
       "3    0    0    0    0  \n",
       "4    0    0    0    0  "
      ]
     },
     "execution_count": 137,
     "metadata": {},
     "output_type": "execute_result"
    }
   ],
   "source": [
    "df=pd.read_csv('../data/raw/XGBoost_train.csv')\n",
    "df.head()"
   ]
  },
  {
   "cell_type": "markdown",
   "id": "bf17632a",
   "metadata": {},
   "source": [
    "# train_test_split "
   ]
  },
  {
   "cell_type": "code",
   "execution_count": 138,
   "id": "0cbfcd27",
   "metadata": {},
   "outputs": [
    {
     "name": "stdout",
     "output_type": "stream",
     "text": [
      "Shape of features_train: (109143, 13)\n",
      "Shape of target_train: (109143,)\n",
      "Shape of features_test: (27286, 13)\n",
      "Shape of features_test: (27286,)\n"
     ]
    }
   ],
   "source": [
    "target=df.loc[:,'Machine failure']\n",
    "features=df.drop('Machine failure' , axis=1)\n",
    "\n",
    "features_train, features_test, target_train, target_test= train_test_split(features , target,                                                          \n",
    "                                                                            random_state = 42,\n",
    "                                                                            test_size = 0.2 )\n",
    "features_train_copy=features_train.copy()\n",
    "\n",
    "print('Shape of features_train:',features_train.shape)\n",
    "print('Shape of target_train:',target_train.shape)\n",
    "print('Shape of features_test:',features_test.shape)\n",
    "print('Shape of features_test:',target_test.shape)\n",
    "\n",
    "features_test.to_csv('features_test.csv', index=False)"
   ]
  },
  {
   "cell_type": "code",
   "execution_count": 76,
   "id": "44e1e9b2",
   "metadata": {},
   "outputs": [
    {
     "data": {
      "text/html": [
       "<div>\n",
       "<style scoped>\n",
       "    .dataframe tbody tr th:only-of-type {\n",
       "        vertical-align: middle;\n",
       "    }\n",
       "\n",
       "    .dataframe tbody tr th {\n",
       "        vertical-align: top;\n",
       "    }\n",
       "\n",
       "    .dataframe thead th {\n",
       "        text-align: right;\n",
       "    }\n",
       "</style>\n",
       "<table border=\"1\" class=\"dataframe\">\n",
       "  <thead>\n",
       "    <tr style=\"text-align: right;\">\n",
       "      <th></th>\n",
       "      <th>id</th>\n",
       "      <th>Product ID</th>\n",
       "      <th>Type</th>\n",
       "      <th>Air temperature [K]</th>\n",
       "      <th>Process temperature [K]</th>\n",
       "      <th>Rotational speed [rpm]</th>\n",
       "      <th>Torque [Nm]</th>\n",
       "      <th>Tool wear [min]</th>\n",
       "      <th>TWF</th>\n",
       "      <th>HDF</th>\n",
       "      <th>PWF</th>\n",
       "      <th>OSF</th>\n",
       "      <th>RNF</th>\n",
       "    </tr>\n",
       "  </thead>\n",
       "  <tbody>\n",
       "    <tr>\n",
       "      <th>12407</th>\n",
       "      <td>12407</td>\n",
       "      <td>L53889</td>\n",
       "      <td>L</td>\n",
       "      <td>301.5</td>\n",
       "      <td>310.7</td>\n",
       "      <td>1481</td>\n",
       "      <td>43.7</td>\n",
       "      <td>77</td>\n",
       "      <td>0</td>\n",
       "      <td>0</td>\n",
       "      <td>0</td>\n",
       "      <td>0</td>\n",
       "      <td>0</td>\n",
       "    </tr>\n",
       "    <tr>\n",
       "      <th>85011</th>\n",
       "      <td>85011</td>\n",
       "      <td>L50140</td>\n",
       "      <td>L</td>\n",
       "      <td>300.7</td>\n",
       "      <td>309.5</td>\n",
       "      <td>1452</td>\n",
       "      <td>43.4</td>\n",
       "      <td>85</td>\n",
       "      <td>0</td>\n",
       "      <td>0</td>\n",
       "      <td>0</td>\n",
       "      <td>0</td>\n",
       "      <td>0</td>\n",
       "    </tr>\n",
       "    <tr>\n",
       "      <th>65292</th>\n",
       "      <td>65292</td>\n",
       "      <td>M24687</td>\n",
       "      <td>M</td>\n",
       "      <td>298.5</td>\n",
       "      <td>309.1</td>\n",
       "      <td>1365</td>\n",
       "      <td>57.0</td>\n",
       "      <td>27</td>\n",
       "      <td>0</td>\n",
       "      <td>0</td>\n",
       "      <td>0</td>\n",
       "      <td>0</td>\n",
       "      <td>0</td>\n",
       "    </tr>\n",
       "    <tr>\n",
       "      <th>18478</th>\n",
       "      <td>18478</td>\n",
       "      <td>L50785</td>\n",
       "      <td>L</td>\n",
       "      <td>301.6</td>\n",
       "      <td>310.7</td>\n",
       "      <td>1543</td>\n",
       "      <td>31.9</td>\n",
       "      <td>16</td>\n",
       "      <td>0</td>\n",
       "      <td>0</td>\n",
       "      <td>0</td>\n",
       "      <td>0</td>\n",
       "      <td>0</td>\n",
       "    </tr>\n",
       "    <tr>\n",
       "      <th>100267</th>\n",
       "      <td>100267</td>\n",
       "      <td>L49210</td>\n",
       "      <td>L</td>\n",
       "      <td>298.9</td>\n",
       "      <td>308.6</td>\n",
       "      <td>1633</td>\n",
       "      <td>32.9</td>\n",
       "      <td>124</td>\n",
       "      <td>0</td>\n",
       "      <td>0</td>\n",
       "      <td>0</td>\n",
       "      <td>0</td>\n",
       "      <td>0</td>\n",
       "    </tr>\n",
       "  </tbody>\n",
       "</table>\n",
       "</div>"
      ],
      "text/plain": [
       "            id Product ID Type  Air temperature [K]  Process temperature [K]  \\\n",
       "12407    12407     L53889    L                301.5                    310.7   \n",
       "85011    85011     L50140    L                300.7                    309.5   \n",
       "65292    65292     M24687    M                298.5                    309.1   \n",
       "18478    18478     L50785    L                301.6                    310.7   \n",
       "100267  100267     L49210    L                298.9                    308.6   \n",
       "\n",
       "        Rotational speed [rpm]  Torque [Nm]  Tool wear [min]  TWF  HDF  PWF  \\\n",
       "12407                     1481         43.7               77    0    0    0   \n",
       "85011                     1452         43.4               85    0    0    0   \n",
       "65292                     1365         57.0               27    0    0    0   \n",
       "18478                     1543         31.9               16    0    0    0   \n",
       "100267                    1633         32.9              124    0    0    0   \n",
       "\n",
       "        OSF  RNF  \n",
       "12407     0    0  \n",
       "85011     0    0  \n",
       "65292     0    0  \n",
       "18478     0    0  \n",
       "100267    0    0  "
      ]
     },
     "execution_count": 76,
     "metadata": {},
     "output_type": "execute_result"
    }
   ],
   "source": [
    "features_train.head()"
   ]
  },
  {
   "cell_type": "code",
   "execution_count": 27,
   "id": "b1c9d73e",
   "metadata": {},
   "outputs": [],
   "source": [
    "# changing features name that could be process for models"
   ]
  },
  {
   "cell_type": "code",
   "execution_count": 139,
   "id": "6c0aa260",
   "metadata": {},
   "outputs": [],
   "source": [
    "def rename_columns(df):\n",
    "    \"\"\"changing features name that could be process for models\"\"\"\n",
    "    df.rename(columns={\n",
    "        'Air temperature [K]': \"Air_temperature\",\n",
    "        'Process temperature [K]': \"Process_temperature\",\n",
    "        \"Rotational speed [rpm]\": \"Rotational_speed\",\n",
    "        \"Torque [Nm]\": \"Torque\",\n",
    "        \"Tool wear [min]\": \"Tool_wear\",\n",
    "        \"Product ID\" : \"Product_ID\"\n",
    "        \n",
    "    }, inplace=True)\n",
    "\n",
    "# Assuming features_train and features_test are your DataFrames\n",
    "rename_columns(features_train)\n",
    "rename_columns(features_test)\n"
   ]
  },
  {
   "cell_type": "code",
   "execution_count": 140,
   "id": "9c1a899d",
   "metadata": {},
   "outputs": [
    {
     "data": {
      "text/html": [
       "<div>\n",
       "<style scoped>\n",
       "    .dataframe tbody tr th:only-of-type {\n",
       "        vertical-align: middle;\n",
       "    }\n",
       "\n",
       "    .dataframe tbody tr th {\n",
       "        vertical-align: top;\n",
       "    }\n",
       "\n",
       "    .dataframe thead th {\n",
       "        text-align: right;\n",
       "    }\n",
       "</style>\n",
       "<table border=\"1\" class=\"dataframe\">\n",
       "  <thead>\n",
       "    <tr style=\"text-align: right;\">\n",
       "      <th></th>\n",
       "      <th>id</th>\n",
       "      <th>Product_ID</th>\n",
       "      <th>Type</th>\n",
       "      <th>Air_temperature</th>\n",
       "      <th>Process_temperature</th>\n",
       "      <th>Rotational_speed</th>\n",
       "      <th>Torque</th>\n",
       "      <th>Tool_wear</th>\n",
       "      <th>TWF</th>\n",
       "      <th>HDF</th>\n",
       "      <th>PWF</th>\n",
       "      <th>OSF</th>\n",
       "      <th>RNF</th>\n",
       "    </tr>\n",
       "  </thead>\n",
       "  <tbody>\n",
       "    <tr>\n",
       "      <th>12407</th>\n",
       "      <td>12407</td>\n",
       "      <td>L53889</td>\n",
       "      <td>L</td>\n",
       "      <td>301.5</td>\n",
       "      <td>310.7</td>\n",
       "      <td>1481</td>\n",
       "      <td>43.7</td>\n",
       "      <td>77</td>\n",
       "      <td>0</td>\n",
       "      <td>0</td>\n",
       "      <td>0</td>\n",
       "      <td>0</td>\n",
       "      <td>0</td>\n",
       "    </tr>\n",
       "    <tr>\n",
       "      <th>85011</th>\n",
       "      <td>85011</td>\n",
       "      <td>L50140</td>\n",
       "      <td>L</td>\n",
       "      <td>300.7</td>\n",
       "      <td>309.5</td>\n",
       "      <td>1452</td>\n",
       "      <td>43.4</td>\n",
       "      <td>85</td>\n",
       "      <td>0</td>\n",
       "      <td>0</td>\n",
       "      <td>0</td>\n",
       "      <td>0</td>\n",
       "      <td>0</td>\n",
       "    </tr>\n",
       "    <tr>\n",
       "      <th>65292</th>\n",
       "      <td>65292</td>\n",
       "      <td>M24687</td>\n",
       "      <td>M</td>\n",
       "      <td>298.5</td>\n",
       "      <td>309.1</td>\n",
       "      <td>1365</td>\n",
       "      <td>57.0</td>\n",
       "      <td>27</td>\n",
       "      <td>0</td>\n",
       "      <td>0</td>\n",
       "      <td>0</td>\n",
       "      <td>0</td>\n",
       "      <td>0</td>\n",
       "    </tr>\n",
       "    <tr>\n",
       "      <th>18478</th>\n",
       "      <td>18478</td>\n",
       "      <td>L50785</td>\n",
       "      <td>L</td>\n",
       "      <td>301.6</td>\n",
       "      <td>310.7</td>\n",
       "      <td>1543</td>\n",
       "      <td>31.9</td>\n",
       "      <td>16</td>\n",
       "      <td>0</td>\n",
       "      <td>0</td>\n",
       "      <td>0</td>\n",
       "      <td>0</td>\n",
       "      <td>0</td>\n",
       "    </tr>\n",
       "    <tr>\n",
       "      <th>100267</th>\n",
       "      <td>100267</td>\n",
       "      <td>L49210</td>\n",
       "      <td>L</td>\n",
       "      <td>298.9</td>\n",
       "      <td>308.6</td>\n",
       "      <td>1633</td>\n",
       "      <td>32.9</td>\n",
       "      <td>124</td>\n",
       "      <td>0</td>\n",
       "      <td>0</td>\n",
       "      <td>0</td>\n",
       "      <td>0</td>\n",
       "      <td>0</td>\n",
       "    </tr>\n",
       "  </tbody>\n",
       "</table>\n",
       "</div>"
      ],
      "text/plain": [
       "            id Product_ID Type  Air_temperature  Process_temperature  \\\n",
       "12407    12407     L53889    L            301.5                310.7   \n",
       "85011    85011     L50140    L            300.7                309.5   \n",
       "65292    65292     M24687    M            298.5                309.1   \n",
       "18478    18478     L50785    L            301.6                310.7   \n",
       "100267  100267     L49210    L            298.9                308.6   \n",
       "\n",
       "        Rotational_speed  Torque  Tool_wear  TWF  HDF  PWF  OSF  RNF  \n",
       "12407               1481    43.7         77    0    0    0    0    0  \n",
       "85011               1452    43.4         85    0    0    0    0    0  \n",
       "65292               1365    57.0         27    0    0    0    0    0  \n",
       "18478               1543    31.9         16    0    0    0    0    0  \n",
       "100267              1633    32.9        124    0    0    0    0    0  "
      ]
     },
     "execution_count": 140,
     "metadata": {},
     "output_type": "execute_result"
    }
   ],
   "source": [
    "features_train.head()"
   ]
  },
  {
   "cell_type": "markdown",
   "id": "1c597f53",
   "metadata": {},
   "source": [
    "# Data imputation "
   ]
  },
  {
   "cell_type": "code",
   "execution_count": 39,
   "id": "5711675f",
   "metadata": {},
   "outputs": [
    {
     "data": {
      "text/plain": [
       "id                     0\n",
       "Product ID             0\n",
       "Type                   0\n",
       "Air_temperature        0\n",
       "Process_temperature    0\n",
       "Rotational_speed       0\n",
       "Torque                 0\n",
       "Tool_wear              0\n",
       "TWF                    0\n",
       "HDF                    0\n",
       "PWF                    0\n",
       "OSF                    0\n",
       "RNF                    0\n",
       "dtype: int64"
      ]
     },
     "execution_count": 39,
     "metadata": {},
     "output_type": "execute_result"
    }
   ],
   "source": [
    "features_train.isna().sum()"
   ]
  },
  {
   "cell_type": "markdown",
   "id": "11d62f5b",
   "metadata": {},
   "source": [
    "# baseline model "
   ]
  },
  {
   "cell_type": "code",
   "execution_count": 52,
   "id": "d3eef881",
   "metadata": {},
   "outputs": [],
   "source": [
    "# define num_cols and cat_cols\n",
    "num_cols=['Air_temperature', 'Process_temperature', 'Rotational_speed', 'Torque',\n",
    "          'Tool_wear', 'TWF', 'HDF', 'PWF', 'OSF', 'RNF']\n",
    "cat_col=[\"Type\"]\n",
    "\n",
    "features_train_base=features_train.loc[:,num_cols+cat_col]\n",
    "features_test_base=features_test.loc[:,num_cols+cat_col]\n",
    "\n",
    "type_mapping = {'L': 0, 'M': 1, 'H': 2}\n",
    "\n",
    "features_train_base['Type_numeric'] = features_train_base['Type'].map(type_mapping)\n",
    "features_test_base['Type_numeric'] = features_test_base['Type'].map(type_mapping)\n",
    "\n",
    "features_train_base=features_train_base.drop(\"Type\" , axis=1)\n",
    "features_test_base=features_test_base.drop(\"Type\" , axis=1)"
   ]
  },
  {
   "cell_type": "code",
   "execution_count": 53,
   "id": "096c5ded",
   "metadata": {},
   "outputs": [
    {
     "name": "stdout",
     "output_type": "stream",
     "text": [
      "f1_scor: 0.8575096277278563\n",
      "recall_score: 0.7625570776255708\n",
      "precison_score: 0.9794721407624634\n"
     ]
    },
    {
     "data": {
      "text/plain": [
       "<Axes: >"
      ]
     },
     "execution_count": 53,
     "metadata": {},
     "output_type": "execute_result"
    },
    {
     "data": {
      "image/png": "[encoded data removed]",
      "text/plain": [
       "<Figure size 640x480 with 2 Axes>"
      ]
     },
     "metadata": {},
     "output_type": "display_data"
    }
   ],
   "source": [
    "\n",
    "\n",
    "#### Random Forest\n",
    "\n",
    "model_rf_base=RandomForestClassifier(n_estimators=50 , class_weight='balanced' , random_state=42)\n",
    "model_rf_base.fit(features_train_base , target_train)\n",
    "\n",
    "# predict and evaluate on test set\n",
    "target_test_pred_base_rf=model_rf_base.predict(features_test_base)\n",
    "\n",
    "print('f1_scor:',f1_score(target_test, target_test_pred_base_rf))\n",
    "print('recall_score:',recall_score(target_test, target_test_pred_base_rf))\n",
    "print('precison_score:',precision_score(target_test, target_test_pred_base_rf))\n",
    "\n",
    "confusion_matrix_rf_base = confusion_matrix(target_test, target_test_pred_base_rf)\n",
    "\n",
    "sns.heatmap(confusion_matrix_rf_base, annot=True, fmt='d')"
   ]
  },
  {
   "cell_type": "code",
   "execution_count": 55,
   "id": "cd1a8d1c",
   "metadata": {},
   "outputs": [
    {
     "name": "stdout",
     "output_type": "stream",
     "text": [
      "f1_scor: 0.5879396984924623\n",
      "recall_score: 0.8013698630136986\n",
      "precison_score: 0.4642857142857143\n",
      "roc_auc_score: 0.8931424702434405\n"
     ]
    },
    {
     "data": {
      "text/plain": [
       "<Axes: >"
      ]
     },
     "execution_count": 55,
     "metadata": {},
     "output_type": "execute_result"
    },
    {
     "data": {
      "image/png": "[encoded data removed]",
      "text/plain": [
       "<Figure size 640x480 with 2 Axes>"
      ]
     },
     "metadata": {},
     "output_type": "display_data"
    }
   ],
   "source": [
    "## logistic regression\n",
    "model_log_base=LogisticRegression(class_weight='balanced' , random_state=42 , max_iter=10000)\n",
    "pipeline_log_base=Pipeline([('std' , MinMaxScaler() ), ('model' ,model_log_base)])\n",
    "\n",
    "pipeline_log_base.fit(features_train_base , target_train)\n",
    "\n",
    "# predict and evaluate on test set  \n",
    "target_test_pred_base=pipeline_log_base.predict(features_test_base)\n",
    "\n",
    "print('f1_scor:',f1_score(target_test, target_test_pred_base))\n",
    "print('recall_score:',recall_score(target_test, target_test_pred_base))\n",
    "print('precison_score:',precision_score(target_test, target_test_pred_base))\n",
    "print('roc_auc_score:',roc_auc_score(target_test, target_test_pred_base))\n",
    "\n",
    "confusion_matrix_log_base = confusion_matrix(target_test, target_test_pred_base)\n",
    "sns.heatmap(confusion_matrix_log_base, annot=True, fmt='d')"
   ]
  },
  {
   "cell_type": "code",
   "execution_count": 191,
   "id": "e24f10ac",
   "metadata": {},
   "outputs": [
    {
     "data": {
      "text/plain": [
       "9976"
      ]
     },
     "execution_count": 191,
     "metadata": {},
     "output_type": "execute_result"
    }
   ],
   "source": [
    "df[\"Product ID\"].nunique()"
   ]
  },
  {
   "cell_type": "markdown",
   "id": "a431ef8f",
   "metadata": {},
   "source": [
    "# Feature engineering"
   ]
  },
  {
   "cell_type": "code",
   "execution_count": 65,
   "id": "40b7e483",
   "metadata": {},
   "outputs": [
    {
     "data": {
      "text/plain": [
       "<Axes: ylabel='Numeric_ID'>"
      ]
     },
     "execution_count": 65,
     "metadata": {},
     "output_type": "execute_result"
    },
    {
     "data": {
      "image/png": "[encoded data removed]",
      "text/plain": [
       "<Figure size 800x600 with 1 Axes>"
      ]
     },
     "metadata": {},
     "output_type": "display_data"
    }
   ],
   "source": [
    "features_train_copy['Numeric_ID'] = features_train_copy['Product ID'].str.extract('(\\d+)')\n",
    "\n",
    "ratios = pd.crosstab(index=features_train_copy[\"Numeric_ID\"], \n",
    "                         columns='ratio', normalize='columns').sort_values(by='ratio')    \n",
    "fig, ax = plt.subplots(1, figsize=(8, 6))\n",
    "ratios.plot(kind='barh', legend=False, ax=ax)"
   ]
  },
  {
   "cell_type": "code",
   "execution_count": 141,
   "id": "3e31f700",
   "metadata": {},
   "outputs": [],
   "source": [
    "def preprocess_features(features, var=None):\n",
    "    \n",
    "    # creating new feature\n",
    "    features['power'] =features['Rotational_speed'] * (2 * np.pi / 60) * features['Torque']\n",
    "\n",
    "    # label encoder for type\n",
    "    type_mapping = {'L': 0, 'M': 1, 'H': 2}\n",
    "    features['Type_numeric'] = features['Type'].map(type_mapping)\n",
    "\n",
    "    # extracting digits from Product_ID\n",
    "    features['Numeric_ID'] = features['Product_ID'].str.extract('(\\d+)')\n",
    "    features.loc[:, \"Numeric_ID\"] = features.loc[:, \"Numeric_ID\"].astype(str)\n",
    "\n",
    "    if var is None:\n",
    "        # Calculate normalized cross-tabulation only for the training set\n",
    "        var = pd.crosstab(index=features[\"Numeric_ID\"], columns='ratio',\n",
    "                          normalize='columns').sort_values(by='ratio', ascending=False)\n",
    "\n",
    "    # Replace categories beyond the top 10 with 'other'\n",
    "    features.loc[~features[\"Numeric_ID\"].isin(var.index[:10]), \"Numeric_ID\"] = 'other'\n",
    "\n",
    "    return features, var"
   ]
  },
  {
   "cell_type": "code",
   "execution_count": 142,
   "id": "f06003a9",
   "metadata": {},
   "outputs": [],
   "source": [
    "# Process the training set and get the calculated 'var_train'\n",
    "features_train, var_train = preprocess_features(features_train)\n",
    "\n",
    "# Use the calculated 'var_train' to process the test set\n",
    "features_test, _ = preprocess_features(features_test, var_train)\n"
   ]
  },
  {
   "cell_type": "code",
   "execution_count": 143,
   "id": "7942ae5d",
   "metadata": {},
   "outputs": [
    {
     "name": "stdout",
     "output_type": "stream",
     "text": [
      "['other' '48892' '49056' '53140' '53257' '54275' '53271' '48894' '53270'\n",
      " '53258' '48897']\n",
      "['53271' 'other' '53258' '48894' '48892' '54275' '53257' '53270' '48897'\n",
      " '49056' '53140']\n"
     ]
    }
   ],
   "source": [
    "print(features_train[\"Numeric_ID\"].unique())\n",
    "print(features_test[\"Numeric_ID\"].unique())"
   ]
  },
  {
   "cell_type": "code",
   "execution_count": 144,
   "id": "c68232bb",
   "metadata": {},
   "outputs": [
    {
     "name": "stdout",
     "output_type": "stream",
     "text": [
      "(109143, 16)\n",
      "(27286, 16)\n"
     ]
    }
   ],
   "source": [
    "print(features_train.shape)\n",
    "print(features_test.shape)"
   ]
  },
  {
   "cell_type": "code",
   "execution_count": 145,
   "id": "7e413944",
   "metadata": {},
   "outputs": [
    {
     "name": "stdout",
     "output_type": "stream",
     "text": [
      "(109143, 26)\n",
      "(27286, 26)\n"
     ]
    }
   ],
   "source": [
    "# onehot encod\n",
    "import pdpipe as pdp\n",
    "\n",
    "onehot = pdp.OneHotEncode(['Numeric_ID'], drop_first=False)\n",
    "features_train = onehot.fit_transform(features_train)\n",
    "features_test = onehot.transform(features_test)\n",
    "\n",
    "print(features_train.shape)\n",
    "print(features_test.shape)\n",
    "\n"
   ]
  },
  {
   "cell_type": "code",
   "execution_count": 146,
   "id": "dd042057",
   "metadata": {},
   "outputs": [
    {
     "name": "stdout",
     "output_type": "stream",
     "text": [
      "\u001b[1mas we know these features are highly correlated and we can apply dimensionality reduction\u001b[0m\n",
      "\u001b[1mas from this method for 0.90 of variance we get 2 components\u001b[0m\n",
      "n_components: 1\n"
     ]
    }
   ],
   "source": [
    "features_train_copy=features_train.copy()\n",
    "col_correlated= ['Air_temperature', 'Process_temperature']\n",
    "pca=PCA(n_components=0.90)\n",
    "pipe_std_pca=Pipeline([('std' , StandardScaler()),('pca' , pca)])\n",
    "pipe_std_pca.fit(features_train_copy.loc[:,col_correlated])\n",
    "print('\\033[1mas we know these features are highly correlated and we can apply dimensionality reduction\\033[0m')\n",
    "print('\\033[1mas from this method for 0.90 of variance we get 2 components\\033[0m')\n",
    "print('n_components:',pca.n_components_)"
   ]
  },
  {
   "cell_type": "code",
   "execution_count": 147,
   "id": "946b587d",
   "metadata": {},
   "outputs": [
    {
     "name": "stdout",
     "output_type": "stream",
     "text": [
      "(109143, 22)\n",
      "(27286, 22)\n"
     ]
    }
   ],
   "source": [
    "### Applying pca\n",
    "col_correlated= ['Air_temperature', 'Process_temperature']\n",
    "\n",
    "drop_col=[\"Product_ID\" , \"Type\"  ,\"id\"]\n",
    "\n",
    "keep_col = [col for col in features_train.columns if col not in col_correlated and col not in drop_col]\n",
    "\n",
    "pipe_std_pca=Pipeline([('std' , StandardScaler()),('pca' , PCA(n_components=0.9))])\n",
    "\n",
    "col_dropper=ColumnTransformer([('pass_throu' , 'passthrough' , keep_col)] , remainder='drop')\n",
    "corr_transformer=ColumnTransformer([('pipe_std_pca' , pipe_std_pca ,col_correlated )] , remainder=col_dropper)\n",
    "col_names=['pca_0']+keep_col\n",
    "features_train = pd.DataFrame(corr_transformer.fit_transform(features_train) , columns=col_names)\n",
    "features_test = pd.DataFrame(corr_transformer.transform(features_test) , columns=col_names)\n",
    "print(features_train.shape)\n",
    "print(features_test.shape)"
   ]
  },
  {
   "cell_type": "markdown",
   "id": "6be8ad19",
   "metadata": {},
   "source": [
    "# Model training"
   ]
  },
  {
   "cell_type": "code",
   "execution_count": 149,
   "id": "bce2826a",
   "metadata": {},
   "outputs": [],
   "source": [
    "# RandomForestClassifier"
   ]
  },
  {
   "cell_type": "code",
   "execution_count": 148,
   "id": "639e4ed3",
   "metadata": {},
   "outputs": [
    {
     "name": "stdout",
     "output_type": "stream",
     "text": [
      "gridsearch_results_RandomForestClassifier:\n",
      "rf_best_estimator_: RandomForestClassifier(class_weight='balanced', max_depth=50, n_estimators=50,\n",
      "                       random_state=42)\n",
      "rf_best_score_: 0.8546342761207602\n",
      "\n",
      "\n",
      "F1_rf:  0.8615384615384616\n",
      "Precision_rf:  0.9824561403508771\n",
      "Recall_rf:  0.7671232876712328\n"
     ]
    },
    {
     "data": {
      "text/plain": [
       "<Axes: >"
      ]
     },
     "execution_count": 148,
     "metadata": {},
     "output_type": "execute_result"
    },
    {
     "data": {
      "image/png": "[encoded data removed]",
      "text/plain": [
       "<Figure size 640x480 with 2 Axes>"
      ]
     },
     "metadata": {},
     "output_type": "display_data"
    }
   ],
   "source": [
    "model_rf=RandomForestClassifier(n_estimators=50 , class_weight='balanced' , random_state=42)\n",
    "search_space_rf = {'max_depth': np.geomspace(start=3, stop=50, num=10, dtype='int'),\n",
    "'min_samples_leaf': np.geomspace(start=1, stop=500, num=10, dtype='int')}\n",
    "\n",
    "model_rf_optimized=GridSearchCV(estimator=model_rf , param_grid=search_space_rf , cv=5 , scoring='f1' , n_jobs=-1)\n",
    "\n",
    "model_rf_optimized.fit(features_train , target_train)\n",
    "\n",
    "target_test_pred_optimized_rf=model_rf_optimized.predict(features_test)\n",
    "\n",
    "print('gridsearch_results_RandomForestClassifier:')\n",
    "print('rf_best_estimator_:',model_rf_optimized.best_estimator_)\n",
    "print('rf_best_score_:',model_rf_optimized.best_score_)\n",
    "print('\\n')\n",
    "print('F1_rf: ', f1_score(target_test, target_test_pred_optimized_rf))\n",
    "print('Precision_rf: ', precision_score(target_test, target_test_pred_optimized_rf))\n",
    "print('Recall_rf: ', recall_score(target_test, target_test_pred_optimized_rf))\n",
    "confusion_matrix_rf_optimized= confusion_matrix(target_test, target_test_pred_optimized_rf)\n",
    "sns.heatmap(confusion_matrix_rf_optimized, annot=True, fmt='d')"
   ]
  },
  {
   "cell_type": "code",
   "execution_count": 159,
   "id": "9a92f023",
   "metadata": {},
   "outputs": [],
   "source": [
    "# to improve the performance"
   ]
  },
  {
   "cell_type": "code",
   "execution_count": 151,
   "id": "c072ab40",
   "metadata": {},
   "outputs": [],
   "source": [
    "\n",
    "features_train=features_train.drop(\"Torque\" , axis=1)\n",
    "features_test=features_test.drop(\"Torque\" , axis=1)"
   ]
  },
  {
   "cell_type": "code",
   "execution_count": 181,
   "id": "0839792d",
   "metadata": {},
   "outputs": [],
   "source": [
    "## RandomForestClassifier"
   ]
  },
  {
   "cell_type": "code",
   "execution_count": 152,
   "id": "7b928dfb",
   "metadata": {},
   "outputs": [
    {
     "name": "stdout",
     "output_type": "stream",
     "text": [
      "gridsearch_results_RandomForestClassifier:\n",
      "rf_best_estimator_: RandomForestClassifier(class_weight='balanced', max_depth=26, n_estimators=50,\n",
      "                       random_state=42)\n",
      "rf_best_score_: 0.8563669885835179\n",
      "\n",
      "\n",
      "F1_rf:  0.8641025641025641\n",
      "Precision_rf:  0.9853801169590644\n",
      "Recall_rf:  0.769406392694064\n"
     ]
    },
    {
     "data": {
      "text/plain": [
       "<Axes: >"
      ]
     },
     "execution_count": 152,
     "metadata": {},
     "output_type": "execute_result"
    },
    {
     "data": {
      "image/png": "[encoded data removed]",
      "text/plain": [
       "<Figure size 640x480 with 2 Axes>"
      ]
     },
     "metadata": {},
     "output_type": "display_data"
    }
   ],
   "source": [
    "model_rf=RandomForestClassifier(n_estimators=50 , class_weight='balanced' , random_state=42)\n",
    "search_space_rf = {'max_depth': np.geomspace(start=3, stop=50, num=10, dtype='int'),\n",
    "'min_samples_leaf': np.geomspace(start=1, stop=500, num=10, dtype='int')}\n",
    "\n",
    "model_rf_optimized=GridSearchCV(estimator=model_rf , param_grid=search_space_rf , cv=5 , scoring='f1' , n_jobs=-1)\n",
    "\n",
    "model_rf_optimized.fit(features_train , target_train)\n",
    "\n",
    "target_test_pred_optimized_rf=model_rf_optimized.predict(features_test)\n",
    "\n",
    "print('gridsearch_results_RandomForestClassifier:')\n",
    "print('rf_best_estimator_:',model_rf_optimized.best_estimator_)\n",
    "print('rf_best_score_:',model_rf_optimized.best_score_)\n",
    "print('\\n')\n",
    "print('F1_rf: ', f1_score(target_test, target_test_pred_optimized_rf))\n",
    "print('Precision_rf: ', precision_score(target_test, target_test_pred_optimized_rf))\n",
    "print('Recall_rf: ', recall_score(target_test, target_test_pred_optimized_rf))\n",
    "confusion_matrix_rf_optimized= confusion_matrix(target_test, target_test_pred_optimized_rf)\n",
    "sns.heatmap(confusion_matrix_rf_optimized, annot=True, fmt='d')"
   ]
  },
  {
   "cell_type": "code",
   "execution_count": 182,
   "id": "b7f3f03e",
   "metadata": {},
   "outputs": [],
   "source": [
    "## DecisionTreeClassifier"
   ]
  },
  {
   "cell_type": "code",
   "execution_count": 174,
   "id": "2c18fada",
   "metadata": {},
   "outputs": [
    {
     "name": "stdout",
     "output_type": "stream",
     "text": [
      "gridsearch_results_RandomForestClassifier:\n",
      "rf_best_estimator_: DecisionTreeClassifier(class_weight='balanced', max_depth=36, random_state=42)\n",
      "rf_best_score_: 0.760233208688695\n",
      "\n",
      "\n",
      "F1_rf:  0.755656108597285\n",
      "Precision_rf:  0.7488789237668162\n",
      "Recall_rf:  0.7625570776255708\n"
     ]
    },
    {
     "data": {
      "text/plain": [
       "<Axes: >"
      ]
     },
     "execution_count": 174,
     "metadata": {},
     "output_type": "execute_result"
    },
    {
     "data": {
      "image/png": "[encoded data removed]",
      "text/plain": [
       "<Figure size 640x480 with 2 Axes>"
      ]
     },
     "metadata": {},
     "output_type": "display_data"
    }
   ],
   "source": [
    "model_tree = DecisionTreeClassifier(random_state = 42, class_weight = 'balanced')\n",
    "\n",
    "search_space_rf = {'max_depth': np.geomspace(start=3, stop=50, num=10, dtype='int'),\n",
    "'min_samples_leaf': np.geomspace(start=1, stop=500, num=10, dtype='int')}\n",
    "\n",
    "model_DT_optimized=GridSearchCV(estimator=model_tree , param_grid=search_space_rf , cv=5 , scoring='f1' , n_jobs=-1)\n",
    "\n",
    "model_DT_optimized.fit(features_train , target_train)\n",
    "\n",
    "target_test_pred_optimized_DT=model_DT_optimized.predict(features_test)\n",
    "\n",
    "print('gridsearch_results_RandomForestClassifier:')\n",
    "print('rf_best_estimator_:',model_DT_optimized.best_estimator_)\n",
    "print('rf_best_score_:',model_DT_optimized.best_score_)\n",
    "print('\\n')\n",
    "print('F1_rf: ', f1_score(target_test, target_test_pred_optimized_DT))\n",
    "print('Precision_rf: ', precision_score(target_test, target_test_pred_optimized_DT))\n",
    "print('Recall_rf: ', recall_score(target_test, target_test_pred_optimized_DT))\n",
    "confusion_matrix_rf_optimized= confusion_matrix(target_test, target_test_pred_optimized_DT)\n",
    "sns.heatmap(confusion_matrix_rf_optimized, annot=True, fmt='d')"
   ]
  },
  {
   "cell_type": "code",
   "execution_count": 183,
   "id": "0499fa13",
   "metadata": {},
   "outputs": [],
   "source": [
    "## LogisticRegression"
   ]
  },
  {
   "cell_type": "code",
   "execution_count": 175,
   "id": "ed236ae6",
   "metadata": {},
   "outputs": [
    {
     "name": "stdout",
     "output_type": "stream",
     "text": [
      "Average of f1_scor for cross_val_score: 0.7230875313798941 [0.72375691 0.72625698 0.77235772 0.710013   0.68305304]\n",
      "f1_scor_train: 0.723014804845222\n",
      "f1_scor: 0.7003089598352213\n",
      "recall_score: 0.776255707762557\n",
      "precison_score: 0.6378986866791745\n",
      "roc_auc_score: 0.8845335451804441\n"
     ]
    },
    {
     "data": {
      "text/plain": [
       "<Axes: >"
      ]
     },
     "execution_count": 175,
     "metadata": {},
     "output_type": "execute_result"
    },
    {
     "data": {
      "image/png": "[encoded data removed]",
      "text/plain": [
       "<Figure size 500x300 with 2 Axes>"
      ]
     },
     "metadata": {},
     "output_type": "display_data"
    }
   ],
   "source": [
    "model_log_base=LogisticRegression(class_weight='balanced' , random_state=42 , max_iter=10000)\n",
    "pipeline_log_base=Pipeline([('std' , MinMaxScaler() ), ('model' ,model_log_base)])\n",
    "pipeline_log_base.fit(features_train , target_train)\n",
    "\n",
    "result_log_unoptimized=cross_val_score(estimator=pipeline_log_base , X=features_train , y=target_train,\n",
    "                                       cv=5 , scoring='f1')\n",
    "print('Average of f1_scor for cross_val_score:',result_log_unoptimized.mean() , result_log_unoptimized)\n",
    "\n",
    "# predict and evaluate on test set\n",
    "target_test_pred_base=pipeline_log_base.predict(features_test)\n",
    "\n",
    "target_train_pred_base=pipeline_log_base.predict(features_train)\n",
    "print('f1_scor_train:',f1_score(target_train, target_train_pred_base))\n",
    "\n",
    "\n",
    "print('f1_scor:',f1_score(target_test, target_test_pred_base))\n",
    "print('recall_score:',recall_score(target_test, target_test_pred_base))\n",
    "print('precison_score:',precision_score(target_test, target_test_pred_base))\n",
    "print('roc_auc_score:',roc_auc_score(target_test, target_test_pred_base))\n",
    "confusion_matrix_log_base = confusion_matrix(target_test, target_test_pred_base)\n",
    "plt.figure(figsize=(5, 3))\n",
    "sns.heatmap(confusion_matrix_log_base, annot=True, fmt='d')"
   ]
  },
  {
   "cell_type": "code",
   "execution_count": 184,
   "id": "3e1b118d",
   "metadata": {},
   "outputs": [],
   "source": [
    "## LinearSVC"
   ]
  },
  {
   "cell_type": "code",
   "execution_count": 176,
   "id": "026e15ef",
   "metadata": {},
   "outputs": [
    {
     "name": "stdout",
     "output_type": "stream",
     "text": [
      "gridsearch_results_LinearSVC:\n",
      "log_best_estimator_: Pipeline(steps=[('std', MinMaxScaler()),\n",
      "                ('svc',\n",
      "                 LinearSVC(C=0.01, class_weight='balanced', dual=False,\n",
      "                           random_state=42))])\n",
      "log_best_score_: 0.8325520944314629\n",
      "\n",
      "\n",
      "F1_log:  0.8314883148831489\n",
      "Precision_log:  0.9013333333333333\n",
      "Recall_log:  0.771689497716895\n",
      "roc_ouc:  0.8851556844961114\n"
     ]
    },
    {
     "data": {
      "text/plain": [
       "<Axes: >"
      ]
     },
     "execution_count": 176,
     "metadata": {},
     "output_type": "execute_result"
    },
    {
     "data": {
      "image/png": "[encoded data removed]",
      "text/plain": [
       "<Figure size 640x480 with 2 Axes>"
      ]
     },
     "metadata": {},
     "output_type": "display_data"
    }
   ],
   "source": [
    "## algorithm : LinearSVC\n",
    "# tune hyperparameters\n",
    "svc = LinearSVC(dual=False, class_weight='balanced', random_state=42)\n",
    "#svc=SVC(random_state=42)\n",
    "pipeline_svc=Pipeline([('std' , MinMaxScaler()) ,('svc' , svc)])\n",
    "\n",
    "search_space={'svc__C':[0.01 ,0.1 ,1 ,10 ,100] } # 'kernel':['linear' , 'poly' ,'rbf']\n",
    "\n",
    "model_svm=GridSearchCV(estimator=pipeline_svc , param_grid=search_space , cv=5 , n_jobs=-1, scoring='f1')\n",
    "model_svm.fit(features_train , target_train)\n",
    "target_test_pred_optimized_svc=model_svm.predict(features_test)\n",
    "print('gridsearch_results_LinearSVC:')\n",
    "print('log_best_estimator_:',model_svm.best_estimator_)\n",
    "print('log_best_score_:',model_svm.best_score_)\n",
    "print('\\n')\n",
    "print('F1_log: ', f1_score(target_test, target_test_pred_optimized_svc))\n",
    "print('Precision_log: ', precision_score(target_test, target_test_pred_optimized_svc))\n",
    "print('Recall_log: ', recall_score(target_test, target_test_pred_optimized_svc))\n",
    "print('roc_ouc: ', roc_auc_score(target_test, target_test_pred_optimized_svc))\n",
    "confusion_matrix_svc_optimized= confusion_matrix(target_test, target_test_pred_optimized_svc)\n",
    "sns.heatmap(confusion_matrix_svc_optimized, annot=True, fmt='d')"
   ]
  },
  {
   "cell_type": "code",
   "execution_count": 185,
   "id": "5aa53944",
   "metadata": {},
   "outputs": [],
   "source": [
    "##  KNeighborsClassifier"
   ]
  },
  {
   "cell_type": "code",
   "execution_count": 178,
   "id": "e9c9b454",
   "metadata": {},
   "outputs": [
    {
     "name": "stdout",
     "output_type": "stream",
     "text": [
      "F1_log:  0.8560311284046692\n",
      "Precision_log:  0.990990990990991\n",
      "Recall_log:  0.7534246575342466\n",
      "roc_ouc:  0.8766564586836906\n"
     ]
    },
    {
     "data": {
      "text/plain": [
       "<Axes: >"
      ]
     },
     "execution_count": 178,
     "metadata": {},
     "output_type": "execute_result"
    },
    {
     "data": {
      "image/png": "[encoded data removed]",
      "text/plain": [
       "<Figure size 640x480 with 2 Axes>"
      ]
     },
     "metadata": {},
     "output_type": "display_data"
    }
   ],
   "source": [
    "#### build model\n",
    "## algorithm : KNeighborsClassifier\n",
    "pipeline_knn=Pipeline([('std' , StandardScaler()),('knn' , KNeighborsClassifier())])\n",
    "pipeline_knn.fit(features_train , target_train)\n",
    "# predict and evaluate on test set\n",
    "target_test_pred_knn=pipeline_knn.predict(features_test)\n",
    "print('F1_log: ', f1_score(target_test, target_test_pred_knn))\n",
    "print('Precision_log: ', precision_score(target_test, target_test_pred_knn))\n",
    "print('Recall_log: ', recall_score(target_test, target_test_pred_knn))\n",
    "print('roc_ouc: ', roc_auc_score(target_test, target_test_pred_knn))\n",
    "confusion_matrix_knn= confusion_matrix(target_test, target_test_pred_knn)\n",
    "sns.heatmap(confusion_matrix_knn, annot=True, fmt='d')"
   ]
  },
  {
   "cell_type": "markdown",
   "id": "e4efba22",
   "metadata": {},
   "source": [
    "# Model training XGboost"
   ]
  },
  {
   "cell_type": "code",
   "execution_count": 154,
   "id": "0e07a9af",
   "metadata": {},
   "outputs": [],
   "source": [
    "for col in features_train.columns:\n",
    "    features_train[col] = pd.to_numeric(features_train[col], errors='coerce')        \n",
    "    features_test[col] = pd.to_numeric(features_test[col], errors='coerce')\n"
   ]
  },
  {
   "cell_type": "code",
   "execution_count": 180,
   "id": "c20877cf",
   "metadata": {},
   "outputs": [
    {
     "name": "stdout",
     "output_type": "stream",
     "text": [
      "Accuracy 0.9961885215861614\n",
      "F1_log:  0.867007672634271\n",
      "Precision_log:  0.9854651162790697\n",
      "Recall_log:  0.773972602739726\n",
      "roc_ouc:  0.8868931845641419\n"
     ]
    },
    {
     "data": {
      "text/plain": [
       "<Axes: >"
      ]
     },
     "execution_count": 180,
     "metadata": {},
     "output_type": "execute_result"
    },
    {
     "data": {
      "image/png": "[encoded data removed]",
      "text/plain": [
       "<Figure size 640x480 with 2 Axes>"
      ]
     },
     "metadata": {},
     "output_type": "display_data"
    }
   ],
   "source": [
    "from xgboost import XGBClassifier\n",
    "\n",
    "# Instantiate XGBClassifier\n",
    "model_XGB= XGBClassifier(n_estimators=100, random_state=42)\n",
    "\n",
    "# Fit the model to the training data\n",
    "model_XGB.fit(features_train, target_train)\n",
    "\n",
    "# Make predictions on the test set\n",
    "predictions_XGB = model_XGB.predict(features_test)\n",
    "\n",
    "# Evaluate accuracy\n",
    "print(\"Accuracy\",accuracy_score(target_test, predictions_XGB))\n",
    "print('F1_log: ', f1_score(target_test, predictions_XGB))\n",
    "print('Precision_log: ', precision_score(target_test, predictions_XGB))\n",
    "print('Recall_log: ', recall_score(target_test, predictions_XGB))\n",
    "print('roc_ouc: ', roc_auc_score(target_test, predictions_XGB))\n",
    "confusion_matrix_svc_optimized= confusion_matrix(target_test, predictions_XGB)\n",
    "sns.heatmap(confusion_matrix_svc_optimized, annot=True, fmt='d')"
   ]
  },
  {
   "cell_type": "code",
   "execution_count": 171,
   "id": "d6dc2c09",
   "metadata": {},
   "outputs": [
    {
     "name": "stdout",
     "output_type": "stream",
     "text": [
      "Best Hyperparameters: {'max_depth': 3, 'n_estimators': 50}\n",
      "Accuracy 0.9961518727552591\n",
      "F1_log:  0.865211810012837\n",
      "Precision_log:  0.9882697947214076\n",
      "Recall_log:  0.769406392694064\n",
      "roc_ouc:  0.8846287029024551\n"
     ]
    },
    {
     "data": {
      "text/plain": [
       "<Axes: >"
      ]
     },
     "execution_count": 171,
     "metadata": {},
     "output_type": "execute_result"
    },
    {
     "data": {
      "image/png": "[encoded data removed]",
      "text/plain": [
       "<Figure size 640x480 with 2 Axes>"
      ]
     },
     "metadata": {},
     "output_type": "display_data"
    }
   ],
   "source": [
    "# Assuming 'features_train' and 'target_train' are your training features and target\n",
    "# Create an XGBoost classifier\n",
    "xgb = XGBClassifier(random_state=42)\n",
    "\n",
    "# Define the F1 scorer\n",
    "f1_scorer = make_scorer(f1_score)\n",
    "\n",
    "# Define the parameter grid for grid search\n",
    "param_grid = {\n",
    "    'n_estimators': [50,100],\n",
    "    'max_depth': [3, 7 ,25],\n",
    "    # Add more hyperparameters as needed\n",
    "}\n",
    "\n",
    "# Initialize GridSearchCV with the F1 scorer\n",
    "grid_search = GridSearchCV(estimator=xgb, param_grid=param_grid, scoring=f1_scorer, cv=5)\n",
    "\n",
    "# Perform grid search on the training data\n",
    "grid_search.fit(features_train, target_train)\n",
    "\n",
    "# Get the best hyperparameters from grid search\n",
    "best_params = grid_search.best_params_\n",
    "print(\"Best Hyperparameters:\", best_params)\n",
    "\n",
    "# Make predictions on the test set using the best model\n",
    "best_model = grid_search.best_estimator_\n",
    "predictions_XGB = best_model.predict(features_test)\n",
    "\n",
    "\n",
    "# Evaluate accuracy\n",
    "print(\"Accuracy\",accuracy_score(target_test, predictions_XGB))\n",
    "print('F1_log: ', f1_score(target_test, predictions_XGB))\n",
    "print('Precision_log: ', precision_score(target_test, predictions_XGB))\n",
    "print('Recall_log: ', recall_score(target_test, predictions_XGB))\n",
    "print('roc_ouc: ', roc_auc_score(target_test, predictions_XGB))\n",
    "confusion_matrix_svc_optimized= confusion_matrix(target_test, predictions_XGB)\n",
    "sns.heatmap(confusion_matrix_svc_optimized, annot=True, fmt='d')\n"
   ]
  },
  {
   "cell_type": "markdown",
   "id": "4f6c02fe",
   "metadata": {},
   "source": [
    "# Model Interpretation"
   ]
  },
  {
   "cell_type": "code",
   "execution_count": 195,
   "id": "b617d206",
   "metadata": {},
   "outputs": [
    {
     "data": {
      "image/png": "[encoded data removed]",
      "text/plain": [
       "<Figure size 2000x4000 with 1 Axes>"
      ]
     },
     "metadata": {},
     "output_type": "display_data"
    }
   ],
   "source": [
    "fig, ax = plt.subplots(figsize=(20, 40))\n",
    "\n",
    "# Compute feature importances and sort them\n",
    "feature_importance = pd.Series((model_rf_optimized.best_estimator_).feature_importances_,\n",
    "                               index=features_train.columns).sort_values()\n",
    "\n",
    "# Plotting horizontal bar chart for feature importances\n",
    "feature_importance.plot(kind='barh', ax=ax, title='Feature Importances')\n",
    "ax.set_xlabel('Relative Importance')\n",
    "ax.set_ylabel('Features')\n",
    "\n",
    "# Adding text annotations for importance percentages\n",
    "for idx in range(len(feature_importance.index)):\n",
    "    ax.text(s='{}%'.format(int(100 * feature_importance.iloc[idx])),\n",
    "            x=feature_importance.iloc[idx] + 0.004,\n",
    "            y=idx,\n",
    "            size=12,\n",
    "            color='black')\n"
   ]
  },
  {
   "cell_type": "markdown",
   "id": "04308427",
   "metadata": {},
   "source": [
    "# Prediction "
   ]
  },
  {
   "cell_type": "code",
   "execution_count": 197,
   "id": "0326dc04",
   "metadata": {},
   "outputs": [
    {
     "data": {
      "text/html": [
       "<div>\n",
       "<style scoped>\n",
       "    .dataframe tbody tr th:only-of-type {\n",
       "        vertical-align: middle;\n",
       "    }\n",
       "\n",
       "    .dataframe tbody tr th {\n",
       "        vertical-align: top;\n",
       "    }\n",
       "\n",
       "    .dataframe thead th {\n",
       "        text-align: right;\n",
       "    }\n",
       "</style>\n",
       "<table border=\"1\" class=\"dataframe\">\n",
       "  <thead>\n",
       "    <tr style=\"text-align: right;\">\n",
       "      <th></th>\n",
       "      <th>id</th>\n",
       "      <th>Product ID</th>\n",
       "      <th>Type</th>\n",
       "      <th>Air temperature [K]</th>\n",
       "      <th>Process temperature [K]</th>\n",
       "      <th>Rotational speed [rpm]</th>\n",
       "      <th>Torque [Nm]</th>\n",
       "      <th>Tool wear [min]</th>\n",
       "      <th>TWF</th>\n",
       "      <th>HDF</th>\n",
       "      <th>PWF</th>\n",
       "      <th>OSF</th>\n",
       "      <th>RNF</th>\n",
       "    </tr>\n",
       "  </thead>\n",
       "  <tbody>\n",
       "    <tr>\n",
       "      <th>0</th>\n",
       "      <td>136429</td>\n",
       "      <td>L50896</td>\n",
       "      <td>L</td>\n",
       "      <td>302.3</td>\n",
       "      <td>311.5</td>\n",
       "      <td>1499</td>\n",
       "      <td>38.0</td>\n",
       "      <td>60</td>\n",
       "      <td>0</td>\n",
       "      <td>0</td>\n",
       "      <td>0</td>\n",
       "      <td>0</td>\n",
       "      <td>0</td>\n",
       "    </tr>\n",
       "    <tr>\n",
       "      <th>1</th>\n",
       "      <td>136430</td>\n",
       "      <td>L53866</td>\n",
       "      <td>L</td>\n",
       "      <td>301.7</td>\n",
       "      <td>311.0</td>\n",
       "      <td>1713</td>\n",
       "      <td>28.8</td>\n",
       "      <td>17</td>\n",
       "      <td>0</td>\n",
       "      <td>0</td>\n",
       "      <td>0</td>\n",
       "      <td>0</td>\n",
       "      <td>0</td>\n",
       "    </tr>\n",
       "    <tr>\n",
       "      <th>2</th>\n",
       "      <td>136431</td>\n",
       "      <td>L50498</td>\n",
       "      <td>L</td>\n",
       "      <td>301.3</td>\n",
       "      <td>310.4</td>\n",
       "      <td>1525</td>\n",
       "      <td>37.7</td>\n",
       "      <td>96</td>\n",
       "      <td>0</td>\n",
       "      <td>0</td>\n",
       "      <td>0</td>\n",
       "      <td>0</td>\n",
       "      <td>0</td>\n",
       "    </tr>\n",
       "    <tr>\n",
       "      <th>3</th>\n",
       "      <td>136432</td>\n",
       "      <td>M21232</td>\n",
       "      <td>M</td>\n",
       "      <td>300.1</td>\n",
       "      <td>309.6</td>\n",
       "      <td>1479</td>\n",
       "      <td>47.6</td>\n",
       "      <td>5</td>\n",
       "      <td>0</td>\n",
       "      <td>0</td>\n",
       "      <td>0</td>\n",
       "      <td>0</td>\n",
       "      <td>0</td>\n",
       "    </tr>\n",
       "    <tr>\n",
       "      <th>4</th>\n",
       "      <td>136433</td>\n",
       "      <td>M19751</td>\n",
       "      <td>M</td>\n",
       "      <td>303.4</td>\n",
       "      <td>312.3</td>\n",
       "      <td>1515</td>\n",
       "      <td>41.3</td>\n",
       "      <td>114</td>\n",
       "      <td>0</td>\n",
       "      <td>0</td>\n",
       "      <td>0</td>\n",
       "      <td>0</td>\n",
       "      <td>0</td>\n",
       "    </tr>\n",
       "  </tbody>\n",
       "</table>\n",
       "</div>"
      ],
      "text/plain": [
       "       id Product ID Type  Air temperature [K]  Process temperature [K]  \\\n",
       "0  136429     L50896    L                302.3                    311.5   \n",
       "1  136430     L53866    L                301.7                    311.0   \n",
       "2  136431     L50498    L                301.3                    310.4   \n",
       "3  136432     M21232    M                300.1                    309.6   \n",
       "4  136433     M19751    M                303.4                    312.3   \n",
       "\n",
       "   Rotational speed [rpm]  Torque [Nm]  Tool wear [min]  TWF  HDF  PWF  OSF  \\\n",
       "0                    1499         38.0               60    0    0    0    0   \n",
       "1                    1713         28.8               17    0    0    0    0   \n",
       "2                    1525         37.7               96    0    0    0    0   \n",
       "3                    1479         47.6                5    0    0    0    0   \n",
       "4                    1515         41.3              114    0    0    0    0   \n",
       "\n",
       "   RNF  \n",
       "0    0  \n",
       "1    0  \n",
       "2    0  \n",
       "3    0  \n",
       "4    0  "
      ]
     },
     "execution_count": 197,
     "metadata": {},
     "output_type": "execute_result"
    }
   ],
   "source": [
    "df_prediction=pd.read_csv('../data/raw/XGBoost_test.csv')\n",
    "df_prediction.head()"
   ]
  },
  {
   "cell_type": "code",
   "execution_count": 198,
   "id": "d44648d4",
   "metadata": {},
   "outputs": [
    {
     "data": {
      "text/html": [
       "<div>\n",
       "<style scoped>\n",
       "    .dataframe tbody tr th:only-of-type {\n",
       "        vertical-align: middle;\n",
       "    }\n",
       "\n",
       "    .dataframe tbody tr th {\n",
       "        vertical-align: top;\n",
       "    }\n",
       "\n",
       "    .dataframe thead th {\n",
       "        text-align: right;\n",
       "    }\n",
       "</style>\n",
       "<table border=\"1\" class=\"dataframe\">\n",
       "  <thead>\n",
       "    <tr style=\"text-align: right;\">\n",
       "      <th></th>\n",
       "      <th>pca_0</th>\n",
       "      <th>Rotational_speed</th>\n",
       "      <th>Tool_wear</th>\n",
       "      <th>TWF</th>\n",
       "      <th>HDF</th>\n",
       "      <th>PWF</th>\n",
       "      <th>OSF</th>\n",
       "      <th>RNF</th>\n",
       "      <th>power</th>\n",
       "      <th>Type_numeric</th>\n",
       "      <th>...</th>\n",
       "      <th>Numeric_ID_48894</th>\n",
       "      <th>Numeric_ID_48897</th>\n",
       "      <th>Numeric_ID_49056</th>\n",
       "      <th>Numeric_ID_53140</th>\n",
       "      <th>Numeric_ID_53257</th>\n",
       "      <th>Numeric_ID_53258</th>\n",
       "      <th>Numeric_ID_53270</th>\n",
       "      <th>Numeric_ID_53271</th>\n",
       "      <th>Numeric_ID_54275</th>\n",
       "      <th>Numeric_ID_other</th>\n",
       "    </tr>\n",
       "  </thead>\n",
       "  <tbody>\n",
       "    <tr>\n",
       "      <th>0</th>\n",
       "      <td>-1.720377</td>\n",
       "      <td>1499.0</td>\n",
       "      <td>60.0</td>\n",
       "      <td>0.0</td>\n",
       "      <td>0.0</td>\n",
       "      <td>0.0</td>\n",
       "      <td>0.0</td>\n",
       "      <td>0.0</td>\n",
       "      <td>5965.046691</td>\n",
       "      <td>0.0</td>\n",
       "      <td>...</td>\n",
       "      <td>0.0</td>\n",
       "      <td>0.0</td>\n",
       "      <td>0.0</td>\n",
       "      <td>0.0</td>\n",
       "      <td>0.0</td>\n",
       "      <td>0.0</td>\n",
       "      <td>0.0</td>\n",
       "      <td>0.0</td>\n",
       "      <td>0.0</td>\n",
       "      <td>1.0</td>\n",
       "    </tr>\n",
       "    <tr>\n",
       "      <th>1</th>\n",
       "      <td>-1.237157</td>\n",
       "      <td>1713.0</td>\n",
       "      <td>17.0</td>\n",
       "      <td>0.0</td>\n",
       "      <td>0.0</td>\n",
       "      <td>0.0</td>\n",
       "      <td>0.0</td>\n",
       "      <td>0.0</td>\n",
       "      <td>5166.286287</td>\n",
       "      <td>0.0</td>\n",
       "      <td>...</td>\n",
       "      <td>0.0</td>\n",
       "      <td>0.0</td>\n",
       "      <td>0.0</td>\n",
       "      <td>0.0</td>\n",
       "      <td>0.0</td>\n",
       "      <td>0.0</td>\n",
       "      <td>0.0</td>\n",
       "      <td>0.0</td>\n",
       "      <td>0.0</td>\n",
       "      <td>1.0</td>\n",
       "    </tr>\n",
       "    <tr>\n",
       "      <th>2</th>\n",
       "      <td>-0.778900</td>\n",
       "      <td>1525.0</td>\n",
       "      <td>96.0</td>\n",
       "      <td>0.0</td>\n",
       "      <td>0.0</td>\n",
       "      <td>0.0</td>\n",
       "      <td>0.0</td>\n",
       "      <td>0.0</td>\n",
       "      <td>6020.600521</td>\n",
       "      <td>0.0</td>\n",
       "      <td>...</td>\n",
       "      <td>0.0</td>\n",
       "      <td>0.0</td>\n",
       "      <td>0.0</td>\n",
       "      <td>0.0</td>\n",
       "      <td>0.0</td>\n",
       "      <td>0.0</td>\n",
       "      <td>0.0</td>\n",
       "      <td>0.0</td>\n",
       "      <td>0.0</td>\n",
       "      <td>1.0</td>\n",
       "    </tr>\n",
       "    <tr>\n",
       "      <th>3</th>\n",
       "      <td>0.085456</td>\n",
       "      <td>1479.0</td>\n",
       "      <td>5.0</td>\n",
       "      <td>0.0</td>\n",
       "      <td>0.0</td>\n",
       "      <td>0.0</td>\n",
       "      <td>0.0</td>\n",
       "      <td>0.0</td>\n",
       "      <td>7372.312648</td>\n",
       "      <td>1.0</td>\n",
       "      <td>...</td>\n",
       "      <td>0.0</td>\n",
       "      <td>0.0</td>\n",
       "      <td>0.0</td>\n",
       "      <td>0.0</td>\n",
       "      <td>0.0</td>\n",
       "      <td>0.0</td>\n",
       "      <td>0.0</td>\n",
       "      <td>0.0</td>\n",
       "      <td>0.0</td>\n",
       "      <td>1.0</td>\n",
       "    </tr>\n",
       "    <tr>\n",
       "      <th>4</th>\n",
       "      <td>-2.546731</td>\n",
       "      <td>1515.0</td>\n",
       "      <td>114.0</td>\n",
       "      <td>0.0</td>\n",
       "      <td>0.0</td>\n",
       "      <td>0.0</td>\n",
       "      <td>0.0</td>\n",
       "      <td>0.0</td>\n",
       "      <td>6552.262718</td>\n",
       "      <td>1.0</td>\n",
       "      <td>...</td>\n",
       "      <td>0.0</td>\n",
       "      <td>0.0</td>\n",
       "      <td>0.0</td>\n",
       "      <td>0.0</td>\n",
       "      <td>0.0</td>\n",
       "      <td>0.0</td>\n",
       "      <td>0.0</td>\n",
       "      <td>0.0</td>\n",
       "      <td>0.0</td>\n",
       "      <td>1.0</td>\n",
       "    </tr>\n",
       "    <tr>\n",
       "      <th>...</th>\n",
       "      <td>...</td>\n",
       "      <td>...</td>\n",
       "      <td>...</td>\n",
       "      <td>...</td>\n",
       "      <td>...</td>\n",
       "      <td>...</td>\n",
       "      <td>...</td>\n",
       "      <td>...</td>\n",
       "      <td>...</td>\n",
       "      <td>...</td>\n",
       "      <td>...</td>\n",
       "      <td>...</td>\n",
       "      <td>...</td>\n",
       "      <td>...</td>\n",
       "      <td>...</td>\n",
       "      <td>...</td>\n",
       "      <td>...</td>\n",
       "      <td>...</td>\n",
       "      <td>...</td>\n",
       "      <td>...</td>\n",
       "      <td>...</td>\n",
       "    </tr>\n",
       "    <tr>\n",
       "      <th>90949</th>\n",
       "      <td>-1.669336</td>\n",
       "      <td>1484.0</td>\n",
       "      <td>15.0</td>\n",
       "      <td>0.0</td>\n",
       "      <td>0.0</td>\n",
       "      <td>0.0</td>\n",
       "      <td>0.0</td>\n",
       "      <td>0.0</td>\n",
       "      <td>6278.326311</td>\n",
       "      <td>0.0</td>\n",
       "      <td>...</td>\n",
       "      <td>0.0</td>\n",
       "      <td>0.0</td>\n",
       "      <td>0.0</td>\n",
       "      <td>0.0</td>\n",
       "      <td>0.0</td>\n",
       "      <td>0.0</td>\n",
       "      <td>0.0</td>\n",
       "      <td>0.0</td>\n",
       "      <td>0.0</td>\n",
       "      <td>1.0</td>\n",
       "    </tr>\n",
       "    <tr>\n",
       "      <th>90950</th>\n",
       "      <td>0.819418</td>\n",
       "      <td>1542.0</td>\n",
       "      <td>31.0</td>\n",
       "      <td>0.0</td>\n",
       "      <td>0.0</td>\n",
       "      <td>0.0</td>\n",
       "      <td>0.0</td>\n",
       "      <td>0.0</td>\n",
       "      <td>5457.951749</td>\n",
       "      <td>0.0</td>\n",
       "      <td>...</td>\n",
       "      <td>0.0</td>\n",
       "      <td>0.0</td>\n",
       "      <td>0.0</td>\n",
       "      <td>0.0</td>\n",
       "      <td>0.0</td>\n",
       "      <td>0.0</td>\n",
       "      <td>0.0</td>\n",
       "      <td>0.0</td>\n",
       "      <td>0.0</td>\n",
       "      <td>1.0</td>\n",
       "    </tr>\n",
       "    <tr>\n",
       "      <th>90951</th>\n",
       "      <td>3.530958</td>\n",
       "      <td>1501.0</td>\n",
       "      <td>187.0</td>\n",
       "      <td>0.0</td>\n",
       "      <td>0.0</td>\n",
       "      <td>0.0</td>\n",
       "      <td>0.0</td>\n",
       "      <td>0.0</td>\n",
       "      <td>6507.432191</td>\n",
       "      <td>0.0</td>\n",
       "      <td>...</td>\n",
       "      <td>0.0</td>\n",
       "      <td>0.0</td>\n",
       "      <td>0.0</td>\n",
       "      <td>0.0</td>\n",
       "      <td>0.0</td>\n",
       "      <td>0.0</td>\n",
       "      <td>0.0</td>\n",
       "      <td>0.0</td>\n",
       "      <td>0.0</td>\n",
       "      <td>1.0</td>\n",
       "    </tr>\n",
       "    <tr>\n",
       "      <th>90952</th>\n",
       "      <td>1.764243</td>\n",
       "      <td>1534.0</td>\n",
       "      <td>69.0</td>\n",
       "      <td>0.0</td>\n",
       "      <td>0.0</td>\n",
       "      <td>0.0</td>\n",
       "      <td>0.0</td>\n",
       "      <td>0.0</td>\n",
       "      <td>6473.796205</td>\n",
       "      <td>0.0</td>\n",
       "      <td>...</td>\n",
       "      <td>0.0</td>\n",
       "      <td>0.0</td>\n",
       "      <td>0.0</td>\n",
       "      <td>0.0</td>\n",
       "      <td>0.0</td>\n",
       "      <td>0.0</td>\n",
       "      <td>0.0</td>\n",
       "      <td>0.0</td>\n",
       "      <td>0.0</td>\n",
       "      <td>1.0</td>\n",
       "    </tr>\n",
       "    <tr>\n",
       "      <th>90953</th>\n",
       "      <td>-2.839941</td>\n",
       "      <td>1534.0</td>\n",
       "      <td>92.0</td>\n",
       "      <td>0.0</td>\n",
       "      <td>0.0</td>\n",
       "      <td>0.0</td>\n",
       "      <td>0.0</td>\n",
       "      <td>0.0</td>\n",
       "      <td>5799.107767</td>\n",
       "      <td>0.0</td>\n",
       "      <td>...</td>\n",
       "      <td>0.0</td>\n",
       "      <td>0.0</td>\n",
       "      <td>0.0</td>\n",
       "      <td>0.0</td>\n",
       "      <td>0.0</td>\n",
       "      <td>0.0</td>\n",
       "      <td>0.0</td>\n",
       "      <td>0.0</td>\n",
       "      <td>0.0</td>\n",
       "      <td>1.0</td>\n",
       "    </tr>\n",
       "  </tbody>\n",
       "</table>\n",
       "<p>90954 rows × 21 columns</p>\n",
       "</div>"
      ],
      "text/plain": [
       "          pca_0  Rotational_speed  Tool_wear  TWF  HDF  PWF  OSF  RNF  \\\n",
       "0     -1.720377            1499.0       60.0  0.0  0.0  0.0  0.0  0.0   \n",
       "1     -1.237157            1713.0       17.0  0.0  0.0  0.0  0.0  0.0   \n",
       "2     -0.778900            1525.0       96.0  0.0  0.0  0.0  0.0  0.0   \n",
       "3      0.085456            1479.0        5.0  0.0  0.0  0.0  0.0  0.0   \n",
       "4     -2.546731            1515.0      114.0  0.0  0.0  0.0  0.0  0.0   \n",
       "...         ...               ...        ...  ...  ...  ...  ...  ...   \n",
       "90949 -1.669336            1484.0       15.0  0.0  0.0  0.0  0.0  0.0   \n",
       "90950  0.819418            1542.0       31.0  0.0  0.0  0.0  0.0  0.0   \n",
       "90951  3.530958            1501.0      187.0  0.0  0.0  0.0  0.0  0.0   \n",
       "90952  1.764243            1534.0       69.0  0.0  0.0  0.0  0.0  0.0   \n",
       "90953 -2.839941            1534.0       92.0  0.0  0.0  0.0  0.0  0.0   \n",
       "\n",
       "             power  Type_numeric  ...  Numeric_ID_48894  Numeric_ID_48897  \\\n",
       "0      5965.046691           0.0  ...               0.0               0.0   \n",
       "1      5166.286287           0.0  ...               0.0               0.0   \n",
       "2      6020.600521           0.0  ...               0.0               0.0   \n",
       "3      7372.312648           1.0  ...               0.0               0.0   \n",
       "4      6552.262718           1.0  ...               0.0               0.0   \n",
       "...            ...           ...  ...               ...               ...   \n",
       "90949  6278.326311           0.0  ...               0.0               0.0   \n",
       "90950  5457.951749           0.0  ...               0.0               0.0   \n",
       "90951  6507.432191           0.0  ...               0.0               0.0   \n",
       "90952  6473.796205           0.0  ...               0.0               0.0   \n",
       "90953  5799.107767           0.0  ...               0.0               0.0   \n",
       "\n",
       "       Numeric_ID_49056  Numeric_ID_53140  Numeric_ID_53257  Numeric_ID_53258  \\\n",
       "0                   0.0               0.0               0.0               0.0   \n",
       "1                   0.0               0.0               0.0               0.0   \n",
       "2                   0.0               0.0               0.0               0.0   \n",
       "3                   0.0               0.0               0.0               0.0   \n",
       "4                   0.0               0.0               0.0               0.0   \n",
       "...                 ...               ...               ...               ...   \n",
       "90949               0.0               0.0               0.0               0.0   \n",
       "90950               0.0               0.0               0.0               0.0   \n",
       "90951               0.0               0.0               0.0               0.0   \n",
       "90952               0.0               0.0               0.0               0.0   \n",
       "90953               0.0               0.0               0.0               0.0   \n",
       "\n",
       "       Numeric_ID_53270  Numeric_ID_53271  Numeric_ID_54275  Numeric_ID_other  \n",
       "0                   0.0               0.0               0.0               1.0  \n",
       "1                   0.0               0.0               0.0               1.0  \n",
       "2                   0.0               0.0               0.0               1.0  \n",
       "3                   0.0               0.0               0.0               1.0  \n",
       "4                   0.0               0.0               0.0               1.0  \n",
       "...                 ...               ...               ...               ...  \n",
       "90949               0.0               0.0               0.0               1.0  \n",
       "90950               0.0               0.0               0.0               1.0  \n",
       "90951               0.0               0.0               0.0               1.0  \n",
       "90952               0.0               0.0               0.0               1.0  \n",
       "90953               0.0               0.0               0.0               1.0  \n",
       "\n",
       "[90954 rows x 21 columns]"
      ]
     },
     "execution_count": 198,
     "metadata": {},
     "output_type": "execute_result"
    }
   ],
   "source": [
    "rename_columns(df_prediction)\n",
    "df_prediction, _ = preprocess_features(df_prediction, var_train)\n",
    "df_prediction = onehot.transform(df_prediction)\n",
    "df_prediction = pd.DataFrame(corr_transformer.transform(df_prediction) , columns=col_names)\n",
    "df_prediction = df_prediction.drop(\"Torque\" , axis=1)\n",
    "for col in features_train.columns:\n",
    "    df_prediction[col] = pd.to_numeric(df_prediction[col], errors='coerce')        \n",
    "df_prediction"
   ]
  },
  {
   "cell_type": "code",
   "execution_count": 199,
   "id": "d0ee2f51",
   "metadata": {},
   "outputs": [
    {
     "data": {
      "text/html": [
       "<div>\n",
       "<style scoped>\n",
       "    .dataframe tbody tr th:only-of-type {\n",
       "        vertical-align: middle;\n",
       "    }\n",
       "\n",
       "    .dataframe tbody tr th {\n",
       "        vertical-align: top;\n",
       "    }\n",
       "\n",
       "    .dataframe thead th {\n",
       "        text-align: right;\n",
       "    }\n",
       "</style>\n",
       "<table border=\"1\" class=\"dataframe\">\n",
       "  <thead>\n",
       "    <tr style=\"text-align: right;\">\n",
       "      <th>col_0</th>\n",
       "      <th>count</th>\n",
       "    </tr>\n",
       "    <tr>\n",
       "      <th>row_0</th>\n",
       "      <th></th>\n",
       "    </tr>\n",
       "  </thead>\n",
       "  <tbody>\n",
       "    <tr>\n",
       "      <th>0</th>\n",
       "      <td>89814</td>\n",
       "    </tr>\n",
       "    <tr>\n",
       "      <th>1</th>\n",
       "      <td>1140</td>\n",
       "    </tr>\n",
       "  </tbody>\n",
       "</table>\n",
       "</div>"
      ],
      "text/plain": [
       "col_0  count\n",
       "row_0       \n",
       "0      89814\n",
       "1       1140"
      ]
     },
     "metadata": {},
     "output_type": "display_data"
    }
   ],
   "source": [
    "y_pred=model_XGB.predict(df_prediction)\n",
    "display(pd.crosstab(y_pred, columns = 'count'))"
   ]
  },
  {
   "cell_type": "code",
   "execution_count": null,
   "id": "ab8a506b",
   "metadata": {},
   "outputs": [],
   "source": []
  }
 ],
 "metadata": {
  "kernelspec": {
   "display_name": "Python 3 (ipykernel)",
   "language": "python",
   "name": "python3"
  },
  "language_info": {
   "codemirror_mode": {
    "name": "ipython",
    "version": 3
   },
   "file_extension": ".py",
   "mimetype": "text/x-python",
   "name": "python",
   "nbconvert_exporter": "python",
   "pygments_lexer": "ipython3",
   "version": "3.11.5"
  }
 },
 "nbformat": 4,
 "nbformat_minor": 5
}
